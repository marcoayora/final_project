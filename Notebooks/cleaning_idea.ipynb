{
 "cells": [
  {
   "cell_type": "code",
   "execution_count": 2,
   "metadata": {},
   "outputs": [],
   "source": [
    "#Libraries:\n",
    "\n",
    "import pandas as pd\n",
    "import numpy as np\n",
    "import pprint\n",
    "import seaborn as sns\n",
    "import matplotlib.pyplot as plt"
   ]
  },
  {
   "cell_type": "code",
   "execution_count": 3,
   "metadata": {},
   "outputs": [],
   "source": [
    "df = pd.read_csv(\"../Data/dataset_idealista.csv\")"
   ]
  },
  {
   "cell_type": "code",
   "execution_count": 4,
   "metadata": {},
   "outputs": [
    {
     "data": {
      "text/html": [
       "<div>\n",
       "<style scoped>\n",
       "    .dataframe tbody tr th:only-of-type {\n",
       "        vertical-align: middle;\n",
       "    }\n",
       "\n",
       "    .dataframe tbody tr th {\n",
       "        vertical-align: top;\n",
       "    }\n",
       "\n",
       "    .dataframe thead th {\n",
       "        text-align: right;\n",
       "    }\n",
       "</style>\n",
       "<table border=\"1\" class=\"dataframe\">\n",
       "  <thead>\n",
       "    <tr style=\"text-align: right;\">\n",
       "      <th></th>\n",
       "      <th>ad_id</th>\n",
       "      <th>ad_state_Value</th>\n",
       "      <th>ad_operation_Value</th>\n",
       "      <th>ad_typology_Value</th>\n",
       "      <th>ad_price</th>\n",
       "      <th>ad_area</th>\n",
       "      <th>ad_activationdate</th>\n",
       "      <th>ad_deactivationdate</th>\n",
       "      <th>ad_latitude</th>\n",
       "      <th>ad_longitude</th>\n",
       "      <th>...</th>\n",
       "      <th>ad_builttype_Value</th>\n",
       "      <th>ad_roomnumber</th>\n",
       "      <th>ad_bathnumber</th>\n",
       "      <th>ad_haslift</th>\n",
       "      <th>ad_hasswimmingpool</th>\n",
       "      <th>ad_hasheating</th>\n",
       "      <th>ad_hasterrace</th>\n",
       "      <th>ad_hasparkingspace</th>\n",
       "      <th>ad_hasairconditioning</th>\n",
       "      <th>ad_hasgarden</th>\n",
       "    </tr>\n",
       "  </thead>\n",
       "  <tbody>\n",
       "    <tr>\n",
       "      <th>0</th>\n",
       "      <td>102924121</td>\n",
       "      <td>inactive ad</td>\n",
       "      <td>sale</td>\n",
       "      <td>home</td>\n",
       "      <td>315000</td>\n",
       "      <td>61.0</td>\n",
       "      <td>2023-11-03</td>\n",
       "      <td>2023-11-10</td>\n",
       "      <td>41.372047</td>\n",
       "      <td>2.164361</td>\n",
       "      <td>...</td>\n",
       "      <td>second hand / in good condition</td>\n",
       "      <td>2</td>\n",
       "      <td>1</td>\n",
       "      <td>1.0</td>\n",
       "      <td>NaN</td>\n",
       "      <td>1.0</td>\n",
       "      <td>NaN</td>\n",
       "      <td>NaN</td>\n",
       "      <td>1.0</td>\n",
       "      <td>NaN</td>\n",
       "    </tr>\n",
       "    <tr>\n",
       "      <th>1</th>\n",
       "      <td>102614560</td>\n",
       "      <td>inactive ad</td>\n",
       "      <td>sale</td>\n",
       "      <td>home</td>\n",
       "      <td>450000</td>\n",
       "      <td>166.0</td>\n",
       "      <td>2023-09-20</td>\n",
       "      <td>2023-11-10</td>\n",
       "      <td>41.379380</td>\n",
       "      <td>2.177694</td>\n",
       "      <td>...</td>\n",
       "      <td>second hand / to be restored</td>\n",
       "      <td>7</td>\n",
       "      <td>2</td>\n",
       "      <td>0.0</td>\n",
       "      <td>NaN</td>\n",
       "      <td>NaN</td>\n",
       "      <td>1.0</td>\n",
       "      <td>NaN</td>\n",
       "      <td>NaN</td>\n",
       "      <td>NaN</td>\n",
       "    </tr>\n",
       "    <tr>\n",
       "      <th>2</th>\n",
       "      <td>101675391</td>\n",
       "      <td>inactive ad</td>\n",
       "      <td>sale</td>\n",
       "      <td>home</td>\n",
       "      <td>179000</td>\n",
       "      <td>58.0</td>\n",
       "      <td>2023-06-08</td>\n",
       "      <td>2023-11-06</td>\n",
       "      <td>41.379963</td>\n",
       "      <td>2.163510</td>\n",
       "      <td>...</td>\n",
       "      <td>second hand / to be restored</td>\n",
       "      <td>3</td>\n",
       "      <td>1</td>\n",
       "      <td>0.0</td>\n",
       "      <td>NaN</td>\n",
       "      <td>NaN</td>\n",
       "      <td>NaN</td>\n",
       "      <td>NaN</td>\n",
       "      <td>NaN</td>\n",
       "      <td>NaN</td>\n",
       "    </tr>\n",
       "    <tr>\n",
       "      <th>3</th>\n",
       "      <td>102882142</td>\n",
       "      <td>inactive ad</td>\n",
       "      <td>sale</td>\n",
       "      <td>home</td>\n",
       "      <td>150000</td>\n",
       "      <td>30.0</td>\n",
       "      <td>2023-10-17</td>\n",
       "      <td>2023-11-09</td>\n",
       "      <td>41.388439</td>\n",
       "      <td>2.165341</td>\n",
       "      <td>...</td>\n",
       "      <td>second hand / in good condition</td>\n",
       "      <td>0</td>\n",
       "      <td>1</td>\n",
       "      <td>0.0</td>\n",
       "      <td>NaN</td>\n",
       "      <td>NaN</td>\n",
       "      <td>NaN</td>\n",
       "      <td>NaN</td>\n",
       "      <td>NaN</td>\n",
       "      <td>NaN</td>\n",
       "    </tr>\n",
       "    <tr>\n",
       "      <th>4</th>\n",
       "      <td>102001566</td>\n",
       "      <td>inactive ad</td>\n",
       "      <td>sale</td>\n",
       "      <td>home</td>\n",
       "      <td>120000</td>\n",
       "      <td>62.0</td>\n",
       "      <td>2023-08-28</td>\n",
       "      <td>2023-11-07</td>\n",
       "      <td>41.371448</td>\n",
       "      <td>2.167549</td>\n",
       "      <td>...</td>\n",
       "      <td>second hand / to be restored</td>\n",
       "      <td>2</td>\n",
       "      <td>1</td>\n",
       "      <td>0.0</td>\n",
       "      <td>NaN</td>\n",
       "      <td>NaN</td>\n",
       "      <td>NaN</td>\n",
       "      <td>NaN</td>\n",
       "      <td>NaN</td>\n",
       "      <td>NaN</td>\n",
       "    </tr>\n",
       "  </tbody>\n",
       "</table>\n",
       "<p>5 rows × 23 columns</p>\n",
       "</div>"
      ],
      "text/plain": [
       "       ad_id ad_state_Value ad_operation_Value ad_typology_Value  ad_price  \\\n",
       "0  102924121    inactive ad               sale              home    315000   \n",
       "1  102614560    inactive ad               sale              home    450000   \n",
       "2  101675391    inactive ad               sale              home    179000   \n",
       "3  102882142    inactive ad               sale              home    150000   \n",
       "4  102001566    inactive ad               sale              home    120000   \n",
       "\n",
       "   ad_area ad_activationdate ad_deactivationdate  ad_latitude  ad_longitude  \\\n",
       "0     61.0        2023-11-03          2023-11-10    41.372047      2.164361   \n",
       "1    166.0        2023-09-20          2023-11-10    41.379380      2.177694   \n",
       "2     58.0        2023-06-08          2023-11-06    41.379963      2.163510   \n",
       "3     30.0        2023-10-17          2023-11-09    41.388439      2.165341   \n",
       "4     62.0        2023-08-28          2023-11-07    41.371448      2.167549   \n",
       "\n",
       "   ...               ad_builttype_Value ad_roomnumber ad_bathnumber  \\\n",
       "0  ...  second hand / in good condition             2             1   \n",
       "1  ...     second hand / to be restored             7             2   \n",
       "2  ...     second hand / to be restored             3             1   \n",
       "3  ...  second hand / in good condition             0             1   \n",
       "4  ...     second hand / to be restored             2             1   \n",
       "\n",
       "  ad_haslift  ad_hasswimmingpool  ad_hasheating  ad_hasterrace  \\\n",
       "0        1.0                 NaN            1.0            NaN   \n",
       "1        0.0                 NaN            NaN            1.0   \n",
       "2        0.0                 NaN            NaN            NaN   \n",
       "3        0.0                 NaN            NaN            NaN   \n",
       "4        0.0                 NaN            NaN            NaN   \n",
       "\n",
       "   ad_hasparkingspace  ad_hasairconditioning  ad_hasgarden  \n",
       "0                 NaN                    1.0           NaN  \n",
       "1                 NaN                    NaN           NaN  \n",
       "2                 NaN                    NaN           NaN  \n",
       "3                 NaN                    NaN           NaN  \n",
       "4                 NaN                    NaN           NaN  \n",
       "\n",
       "[5 rows x 23 columns]"
      ]
     },
     "execution_count": 4,
     "metadata": {},
     "output_type": "execute_result"
    }
   ],
   "source": [
    "df.head()"
   ]
  },
  {
   "cell_type": "code",
   "execution_count": 6,
   "metadata": {},
   "outputs": [
    {
     "name": "stdout",
     "output_type": "stream",
     "text": [
      "Index(['ad_id', 'ad_state_Value', 'ad_operation_Value', 'ad_typology_Value',\n",
      "       'ad_price', 'ad_area', 'ad_activationdate', 'ad_deactivationdate',\n",
      "       'ad_latitude', 'ad_longitude', 'ad_town', 'ad_district',\n",
      "       'ad_neighbourhood', 'ad_builttype_Value', 'ad_roomnumber',\n",
      "       'ad_bathnumber', 'ad_haslift', 'ad_hasswimmingpool', 'ad_hasheating',\n",
      "       'ad_hasterrace', 'ad_hasparkingspace', 'ad_hasairconditioning',\n",
      "       'ad_hasgarden'],\n",
      "      dtype='object')\n"
     ]
    }
   ],
   "source": [
    "print(df.columns)"
   ]
  },
  {
   "cell_type": "code",
   "execution_count": null,
   "metadata": {},
   "outputs": [],
   "source": [
    "# I will start by removing unnecessary columns that are useless for both the training the model as well as the visualization"
   ]
  },
  {
   "cell_type": "code",
   "execution_count": 8,
   "metadata": {},
   "outputs": [],
   "source": [
    "def drop_columns(dataframe, columns_to_drop):\n",
    "\n",
    "    return dataframe.drop(columns=columns_to_drop, errors='ignore')"
   ]
  },
  {
   "cell_type": "code",
   "execution_count": 14,
   "metadata": {},
   "outputs": [],
   "source": [
    "columns_to_drop = ['ad_state_Value','ad_operation_Value', 'ad_activationdate', 'ad_deactivationdate']\n",
    "df = drop_columns(df, columns_to_drop)"
   ]
  },
  {
   "cell_type": "code",
   "execution_count": null,
   "metadata": {},
   "outputs": [],
   "source": [
    "# Now i will handle null values "
   ]
  },
  {
   "cell_type": "code",
   "execution_count": 23,
   "metadata": {},
   "outputs": [],
   "source": [
    "columns_to_fill = ['ad_area','ad_haslift', 'ad_hasswimmingpool', 'ad_hasheating', 'ad_hasterrace', 'ad_hasparkingspace', 'ad_hasairconditioning', 'ad_hasgarden']\n",
    "df[columns_to_fill] = df[columns_to_fill].fillna(0).astype(int)\n"
   ]
  },
  {
   "cell_type": "code",
   "execution_count": 24,
   "metadata": {},
   "outputs": [
    {
     "name": "stdout",
     "output_type": "stream",
     "text": [
      "Columns with the most null values:\n",
      "Series([], dtype: float64)\n"
     ]
    }
   ],
   "source": [
    "columns_with_nulls = df.columns[df.isnull().any()]\n",
    "null_counts = df[columns_with_nulls].isnull().sum().sort_values(ascending=False)\n",
    "\n",
    "print(\"Columns with the most null values:\")\n",
    "print(null_counts)"
   ]
  },
  {
   "cell_type": "code",
   "execution_count": null,
   "metadata": {},
   "outputs": [],
   "source": []
  },
  {
   "cell_type": "code",
   "execution_count": 25,
   "metadata": {},
   "outputs": [],
   "source": [
    "df.to_csv('C:/Users/Marco/Desktop/IronHack/projects/final_project/Data/clean_idealista.csv', index=False)"
   ]
  },
  {
   "cell_type": "code",
   "execution_count": null,
   "metadata": {},
   "outputs": [],
   "source": []
  }
 ],
 "metadata": {
  "kernelspec": {
   "display_name": "ironhack",
   "language": "python",
   "name": "python3"
  },
  "language_info": {
   "codemirror_mode": {
    "name": "ipython",
    "version": 3
   },
   "file_extension": ".py",
   "mimetype": "text/x-python",
   "name": "python",
   "nbconvert_exporter": "python",
   "pygments_lexer": "ipython3",
   "version": "3.11.5"
  }
 },
 "nbformat": 4,
 "nbformat_minor": 2
}
